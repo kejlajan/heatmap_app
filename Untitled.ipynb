{
 "cells": [
  {
   "cell_type": "code",
   "execution_count": 1,
   "id": "c51d884e",
   "metadata": {},
   "outputs": [
    {
     "name": "stderr",
     "output_type": "stream",
     "text": [
      "2024-08-30 10:02:45.752 \n",
      "  \u001b[33m\u001b[1mWarning:\u001b[0m to view this Streamlit app on a browser, run it with the following\n",
      "  command:\n",
      "\n",
      "    streamlit run /usr/lib/python3/dist-packages/ipykernel_launcher.py [ARGUMENTS]\n"
     ]
    }
   ],
   "source": [
    "import streamlit as st\n",
    "import pandas as pd\n",
    "\n",
    "def load_data(file):\n",
    "    \"\"\"Load data from a TSV file.\"\"\"\n",
    "    return pd.read_csv(file, sep='\\t')\n",
    "\n",
    "def display_data(df, custom_name):\n",
    "    \"\"\"Display the data from a dataframe.\"\"\"\n",
    "    st.write(f\"### Data for `{custom_name}`\")\n",
    "    st.dataframe(df)\n",
    "\n",
    "def plot_data(list_of_filenames_and_custom_names:list):\n",
    "    print(\"hello\")\n",
    "\n",
    "    \n",
    "\n",
    "def main():\n",
    "    st.title(\"TSV Files Viewer\")\n",
    "    \n",
    "    # Step 1: File selection\n",
    "    uploaded_files = st.file_uploader(\n",
    "        \"Choose TSV files\", \n",
    "        type=\"tsv\", \n",
    "        accept_multiple_files=True)\n",
    "\n",
    "    if uploaded_files:\n",
    "        # Step 2: Create a list to store file and custom name associations\n",
    "        files_with_names = []\n",
    "\n",
    "        # Display a row for each file with an input field for the name\n",
    "        for uploaded_file in uploaded_files:\n",
    "            file_name = uploaded_file.name\n",
    "            # Display input field with default value as the filename\n",
    "            custom_name = st.text_input(f\"Enter a name for the data in `{file_name}`:\", value=file_name.split(\".\")[0], key=file_name)\n",
    "            # Append the file and its custom name to the list\n",
    "            files_with_names.append((uploaded_file, custom_name))\n",
    "\n",
    "        # Step 3: Display the contents of each file as a dataframe with the custom name\n",
    "        for uploaded_file, custom_name in files_with_names:\n",
    "            df = load_data(uploaded_file)\n",
    "            display_data(df, custom_name)\n",
    "\n",
    "        # step 4: plot the contents of the files:\n",
    "        if st.button(\"Plot heatmap\"):\n",
    "            st.write(\"graphs plotted!\")\n",
    "\n",
    "\n",
    "    else:\n",
    "        st.write(\"Please upload one or more .tsv files.\")\n",
    "\n",
    "if __name__ == \"__main__\":\n",
    "    main()\n",
    "\n"
   ]
  },
  {
   "cell_type": "code",
   "execution_count": null,
   "id": "335bbd78",
   "metadata": {},
   "outputs": [],
   "source": []
  }
 ],
 "metadata": {
  "kernelspec": {
   "display_name": "Python 3 (ipykernel)",
   "language": "python",
   "name": "python3"
  },
  "language_info": {
   "codemirror_mode": {
    "name": "ipython",
    "version": 3
   },
   "file_extension": ".py",
   "mimetype": "text/x-python",
   "name": "python",
   "nbconvert_exporter": "python",
   "pygments_lexer": "ipython3",
   "version": "3.10.12"
  }
 },
 "nbformat": 4,
 "nbformat_minor": 5
}
